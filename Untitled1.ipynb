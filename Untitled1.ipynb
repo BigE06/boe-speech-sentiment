{
 "cells": [
  {
   "cell_type": "code",
   "execution_count": 2,
   "id": "e83221e3-e07c-454b-b80b-20b9ed55b1ee",
   "metadata": {},
   "outputs": [],
   "source": [
    "!pip install --quiet yfinance beautifulsoup4 requests lxml"
   ]
  },
  {
   "cell_type": "code",
   "execution_count": 4,
   "id": "9e8225a4-6992-4d32-8c09-5f01638b36d2",
   "metadata": {},
   "outputs": [
    {
     "name": "stdout",
     "output_type": "stream",
     "text": [
      "✓ Folder created at C:\\Users\\eesha\\Downloads\\Core Data Set BE\\data\\raw\n"
     ]
    }
   ],
   "source": [
    "from pathlib import Path\n",
    "RAW_DIR = Path(\"data/raw\")\n",
    "RAW_DIR.mkdir(parents=True, exist_ok=True)\n",
    "print(\"✓ Folder created at\", RAW_DIR.resolve())\n"
   ]
  },
  {
   "cell_type": "code",
   "execution_count": 26,
   "id": "ef95cdde-366a-4b3d-9769-7fb69adbf70e",
   "metadata": {},
   "outputs": [
    {
     "name": "stdout",
     "output_type": "stream",
     "text": [
      "✓ Folder ready at C:\\Users\\eesha\\Downloads\\Core Data Set BE\\data\\raw\n"
     ]
    },
    {
     "ename": "TypeError",
     "evalue": "string indices must be integers, not 'str'",
     "output_type": "error",
     "traceback": [
      "\u001b[1;31m---------------------------------------------------------------------------\u001b[0m",
      "\u001b[1;31mTypeError\u001b[0m                                 Traceback (most recent call last)",
      "Cell \u001b[1;32mIn[26], line 48\u001b[0m\n\u001b[0;32m     46\u001b[0m \u001b[38;5;66;03m# ---------- 3.  download loop ----------\u001b[39;00m\n\u001b[0;32m     47\u001b[0m \u001b[38;5;28;01mfor\u001b[39;00m (code, src), nice \u001b[38;5;129;01min\u001b[39;00m series_map\u001b[38;5;241m.\u001b[39mitems():\n\u001b[1;32m---> 48\u001b[0m     df \u001b[38;5;241m=\u001b[39m fetch_boedata(code) \u001b[38;5;28;01mif\u001b[39;00m src \u001b[38;5;241m==\u001b[39m \u001b[38;5;124m\"\u001b[39m\u001b[38;5;124mboe\u001b[39m\u001b[38;5;124m\"\u001b[39m \u001b[38;5;28;01melse\u001b[39;00m fetch_ons(code, src)\n\u001b[0;32m     49\u001b[0m     df\u001b[38;5;241m.\u001b[39mrename(columns\u001b[38;5;241m=\u001b[39m{code: nice}, inplace\u001b[38;5;241m=\u001b[39m\u001b[38;5;28;01mTrue\u001b[39;00m)\n\u001b[0;32m     50\u001b[0m     df\u001b[38;5;241m.\u001b[39mto_csv(RAW_DIR \u001b[38;5;241m/\u001b[39m \u001b[38;5;124mf\u001b[39m\u001b[38;5;124m\"\u001b[39m\u001b[38;5;132;01m{\u001b[39;00mnice\u001b[38;5;132;01m}\u001b[39;00m\u001b[38;5;124m.csv\u001b[39m\u001b[38;5;124m\"\u001b[39m, index\u001b[38;5;241m=\u001b[39m\u001b[38;5;28;01mFalse\u001b[39;00m)\n",
      "Cell \u001b[1;32mIn[26], line 28\u001b[0m, in \u001b[0;36mfetch_ons\u001b[1;34m(code, dataset)\u001b[0m\n\u001b[0;32m     23\u001b[0m url \u001b[38;5;241m=\u001b[39m (\n\u001b[0;32m     24\u001b[0m     \u001b[38;5;124mf\u001b[39m\u001b[38;5;124m\"\u001b[39m\u001b[38;5;124mhttps://api.beta.ons.gov.uk/v1/timeseries/\u001b[39m\u001b[38;5;132;01m{\u001b[39;00mcode\u001b[38;5;132;01m}\u001b[39;00m\u001b[38;5;124m/observations\u001b[39m\u001b[38;5;124m\"\u001b[39m\n\u001b[0;32m     25\u001b[0m     \u001b[38;5;124mf\u001b[39m\u001b[38;5;124m\"\u001b[39m\u001b[38;5;124m?datasetId=\u001b[39m\u001b[38;5;132;01m{\u001b[39;00mdataset\u001b[38;5;132;01m}\u001b[39;00m\u001b[38;5;124m&geography=K02000001\u001b[39m\u001b[38;5;124m\"\u001b[39m\n\u001b[0;32m     26\u001b[0m )\n\u001b[0;32m     27\u001b[0m js \u001b[38;5;241m=\u001b[39m requests\u001b[38;5;241m.\u001b[39mget(url, timeout\u001b[38;5;241m=\u001b[39m\u001b[38;5;241m15\u001b[39m)\u001b[38;5;241m.\u001b[39mjson()\n\u001b[1;32m---> 28\u001b[0m obs \u001b[38;5;241m=\u001b[39m [(o[\u001b[38;5;124m\"\u001b[39m\u001b[38;5;124mdate\u001b[39m\u001b[38;5;124m\"\u001b[39m], o[\u001b[38;5;124m\"\u001b[39m\u001b[38;5;124mobservation\u001b[39m\u001b[38;5;124m\"\u001b[39m]) \u001b[38;5;28;01mfor\u001b[39;00m o \u001b[38;5;129;01min\u001b[39;00m js[\u001b[38;5;124m\"\u001b[39m\u001b[38;5;124mobservations\u001b[39m\u001b[38;5;124m\"\u001b[39m]]\n\u001b[0;32m     29\u001b[0m df  \u001b[38;5;241m=\u001b[39m pd\u001b[38;5;241m.\u001b[39mDataFrame(obs, columns\u001b[38;5;241m=\u001b[39m[\u001b[38;5;124m\"\u001b[39m\u001b[38;5;124mdate\u001b[39m\u001b[38;5;124m\"\u001b[39m, code])\n\u001b[0;32m     30\u001b[0m df[\u001b[38;5;124m\"\u001b[39m\u001b[38;5;124mdate\u001b[39m\u001b[38;5;124m\"\u001b[39m] \u001b[38;5;241m=\u001b[39m pd\u001b[38;5;241m.\u001b[39mto_datetime(df[\u001b[38;5;124m\"\u001b[39m\u001b[38;5;124mdate\u001b[39m\u001b[38;5;124m\"\u001b[39m]\u001b[38;5;241m.\u001b[39mstr\u001b[38;5;241m.\u001b[39mreplace(\u001b[38;5;124m\"\u001b[39m\u001b[38;5;124m \u001b[39m\u001b[38;5;124m\"\u001b[39m, \u001b[38;5;124m\"\u001b[39m\u001b[38;5;124m-\u001b[39m\u001b[38;5;124m\"\u001b[39m) \u001b[38;5;241m+\u001b[39m \u001b[38;5;124m\"\u001b[39m\u001b[38;5;124m-01\u001b[39m\u001b[38;5;124m\"\u001b[39m)\n",
      "\u001b[1;31mTypeError\u001b[0m: string indices must be integers, not 'str'"
     ]
    }
   ],
   "source": [
    "# --- imports & folder ---\n",
    "from pathlib import Path\n",
    "import io, re, requests, pandas as pd, yfinance as yf\n",
    "from bs4 import BeautifulSoup\n",
    "\n",
    "RAW_DIR = Path(\"data/raw\")\n",
    "RAW_DIR.mkdir(parents=True, exist_ok=True)\n",
    "print(\"✓ Folder ready at\", RAW_DIR.resolve())\n",
    "\n",
    "# ---------- 1.  helpers ----------\n",
    "def fetch_boedata(code):\n",
    "    url = (\n",
    "        \"https://www.bankofengland.co.uk/boeapps/database/Rates\"\n",
    "        f\"?SeriesCodes={code}&Filter=N&CSVF=TN\"\n",
    "    )\n",
    "    df = pd.read_csv(io.BytesIO(requests.get(url, timeout=15).content))\n",
    "    df.columns = [\"date\", code]\n",
    "    df[\"date\"] = pd.to_datetime(df[\"date\"])\n",
    "    return df\n",
    "\n",
    "def fetch_ons(code, dataset):\n",
    "    \"\"\"ONS Beta v1 endpoint that returns observations directly.\"\"\"\n",
    "    url = (\n",
    "        f\"https://api.beta.ons.gov.uk/v1/timeseries/{code}/observations\"\n",
    "        f\"?datasetId={dataset}&geography=K02000001\"\n",
    "    )\n",
    "    js = requests.get(url, timeout=15).json()\n",
    "    obs = [(o[\"date\"], o[\"observation\"]) for o in js[\"observations\"]]\n",
    "    df  = pd.DataFrame(obs, columns=[\"date\", code])\n",
    "    df[\"date\"] = pd.to_datetime(df[\"date\"].str.replace(\" \", \"-\") + \"-01\")\n",
    "    df[code]   = pd.to_numeric(df[code], errors=\"coerce\")\n",
    "    return df\n",
    "\n",
    "# ---------- 2.  series mapping ----------\n",
    "series_map = {\n",
    "    # ONS   (code, datasetId)\n",
    "    (\"BKTL\", \"qna\"):  \"gdp_yoy\",             # GDP YoY %\n",
    "    (\"L55O\", \"mm23\"): \"cpi_yoy\",             # CPI YoY %\n",
    "    (\"MGSX\", \"lms\"):  \"unemployment_pct\",    # Unemployment %\n",
    "    (\"LNMQ\", \"lms\"):  \"weekly_earnings_yoy\", # Earnings YoY %\n",
    "    # BoE\n",
    "    (\"IUDMNPY\", \"boe\"): \"ois_7d\",            # 7‑day OIS\n",
    "    (\"IUDERB3A\",\"boe\"): \"bank_rate\",         # Official Bank Rate\n",
    "}\n",
    "\n",
    "# ---------- 3.  download loop ----------\n",
    "for (code, src), nice in series_map.items():\n",
    "    df = fetch_boedata(code) if src == \"boe\" else fetch_ons(code, src)\n",
    "    df.rename(columns={code: nice}, inplace=True)\n",
    "    df.to_csv(RAW_DIR / f\"{nice}.csv\", index=False)\n",
    "    print(f\"✓ {nice}.csv saved ({len(df)} rows)\")\n",
    "\n",
    "# ---------- 4.  FTSE All‑Share ----------\n",
    "ftse = yf.download(\"^FTAS\", start=\"2000-01-01\", interval=\"1mo\", group_by=\"ticker\")\n",
    "ftse_close = ftse[\"Close\"].reset_index()\n",
    "ftse_close.rename(columns={\"Date\": \"date\", \"^FTAS\": \"ftse_allshare\"}, inplace=True)\n",
    "ftse_close.to_csv(RAW_DIR / \"ftse_allshare.csv\", index=False)\n",
    "print(\"✓ ftse_allshare.csv saved\")\n",
    "\n",
    "# ---------- 5.  scrape MPR / FSR ----------\n",
    "def _scrape(url, label):\n",
    "    html = requests.get(url, timeout=15).text\n",
    "    soup = BeautifulSoup(html, \"html.parser\")\n",
    "    patt = re.compile(rf\"{label}.*?-\\s+([A-Za-z]+)\\s+(\\d{{4}})\", re.I)\n",
    "    dates = {\n",
    "        pd.to_datetime(\" \".join(m.groups()))\n",
    "        for a in soup.find_all(\"a\") if (m := patt.search(a.get_text(strip=True)))\n",
    "    }\n",
    "    return pd.DataFrame({\"date\": sorted(dates), \"event\": label[:3].upper()})\n",
    "\n",
    "fsr = _scrape(\n",
    "    \"https://www.bankofengland.co.uk/sitemap/financial-stability-report\",\n",
    "    \"Financial Stability Report\",\n",
    ")\n",
    "mpr = _scrape(\n",
    "    \"https://www.bankofengland.co.uk/sitemap/monetary-policy-report\",\n",
    "    \"Monetary Policy Report\",\n",
    ")\n",
    "\n",
    "calendar = (\n",
    "    pd.concat([fsr, mpr])\n",
    "    .sort_values(\"date\")\n",
    "    .reset_index(drop=True)\n",
    ")\n",
    "calendar.to_csv(RAW_DIR / \"mpr_fsr_calendar.csv\", index=False)\n",
    "print(\"✓ mpr_fsr_calendar.csv saved with\", len(calendar), \"rows\")\n",
    "\n",
    "# ---------- 6.  final check ----------\n",
    "print(\"\\nFiles inside data/raw/:\")\n",
    "for p in RAW_DIR.glob(\"*.csv\"):\n",
    "    print(\"  •\", p.name)\n"
   ]
  },
  {
   "cell_type": "code",
   "execution_count": 28,
   "id": "d16586e8-612d-4cdb-8766-e052a2191e45",
   "metadata": {},
   "outputs": [
    {
     "name": "stdout",
     "output_type": "stream",
     "text": [
      "\"No API is defined for GET /timeseries/BKTL/observations\"\n"
     ]
    }
   ],
   "source": [
    "print(requests.get(\"https://api.beta.ons.gov.uk/v1/timeseries/BKTL/observations?datasetId=qna\").text[:400])\n"
   ]
  },
  {
   "cell_type": "code",
   "execution_count": null,
   "id": "a31f170a-2149-45ca-8c0d-f309fad0a22a",
   "metadata": {},
   "outputs": [],
   "source": []
  }
 ],
 "metadata": {
  "kernelspec": {
   "display_name": "Python 3 (ipykernel)",
   "language": "python",
   "name": "python3"
  },
  "language_info": {
   "codemirror_mode": {
    "name": "ipython",
    "version": 3
   },
   "file_extension": ".py",
   "mimetype": "text/x-python",
   "name": "python",
   "nbconvert_exporter": "python",
   "pygments_lexer": "ipython3",
   "version": "3.12.4"
  }
 },
 "nbformat": 4,
 "nbformat_minor": 5
}
